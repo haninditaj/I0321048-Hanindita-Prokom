{
 "cells": [
  {
   "cell_type": "markdown",
   "metadata": {},
   "source": [
    "# Exercise 03  \n",
    "### LIST  \n",
    "Berikut merupakan sejumlah latihan untuk kalian dalam praktek programa komputer Modul 3.  \n",
    "Pertama buatlah sebuah list dengan nama variabel \"biodata\" dan isikan elemen terdiri dari :\n",
    "* Nama\n",
    "* NIM\n",
    "* Umur\n",
    "* Kota Asal\n",
    "* Hobi  \n",
    "\n",
    "Berikut contoh yang kami berikan\n"
   ]
  },
  {
   "cell_type": "markdown",
   "metadata": {},
   "source": [
    "![](./image/1.png)"
   ]
  },
  {
   "cell_type": "code",
   "execution_count": 25,
   "metadata": {},
   "outputs": [],
   "source": [
    "#SOAL-1\n",
    "#BUATLAH LIST KALIAN DISINI\n",
    "biodata = [\"Hanindita\", \"I0321048\", 19, \"Surakarta\", \"Olahraga\"]"
   ]
  },
  {
   "cell_type": "markdown",
   "metadata": {},
   "source": [
    "Sekarang list kalian sudah terdefinisi ke dalam sebuah variabel.  \n",
    "Selanjutnya adalah contoh unuk mengakses elemen list.  \n",
    "  \n",
    "![](./image/2.png)"
   ]
  },
  {
   "cell_type": "code",
   "execution_count": 31,
   "metadata": {},
   "outputs": [
    {
     "name": "stdout",
     "output_type": "stream",
     "text": [
      "BIODATA\n",
      "____________________\n",
      "Nama\t: Hanindita \n",
      "NIM\t: I0321048 \n",
      "USIA\t: 19 \n",
      "ASAL\t: Surakarta \n",
      "HOBI\t: Olahraga\n"
     ]
    }
   ],
   "source": [
    "#SOAL-2\n",
    "#TULISKAN KEMBALI KODE DIATAS SESUAI DATA KALIAN MASING-MASING DISINI\n",
    "print(\"BIODATA\\n____________________\\nNama\\t:\", biodata[0], \"\\nNIM\\t:\", biodata[1],\n",
    "        \"\\nUSIA\\t:\", biodata[2], \"\\nASAL\\t:\",biodata[3], \"\\nHOBI\\t:\", biodata[4])"
   ]
  },
  {
   "cell_type": "markdown",
   "metadata": {},
   "source": [
    "Ternyata kita ingin menuliskan hobi lebih dari 1, maka selanjutnya kita akan mengubah hobi kita yang ada di list. Karena lebih dari 1 maka kita akan mengubah elemen hobi menjadi list of list.  \n",
    "\n",
    "![](./image/3.png)\n"
   ]
  },
  {
   "cell_type": "code",
   "execution_count": 32,
   "metadata": {},
   "outputs": [
    {
     "name": "stdout",
     "output_type": "stream",
     "text": [
      "['Hanindita', 'I0321048', 19, 'Surakarta', ['Olahraga', 'Fotografi', 'Game']]\n"
     ]
    }
   ],
   "source": [
    "#SOAL-3\n",
    "#TULISKAN KEMBALI KODE DIATAS SESUAI HOBI KALIAN DISINI\n",
    "biodata[4] = [\"Olahraga\", \"Fotografi\", \"Game\"]\n",
    "print(biodata)"
   ]
  },
  {
   "cell_type": "markdown",
   "metadata": {},
   "source": [
    "NIM merupakan data privasi di kondisi tertentu, maka sebaiknya kita menghapus nya.  \n",
    "\n",
    "![](./image/4.png)\n"
   ]
  },
  {
   "cell_type": "code",
   "execution_count": 33,
   "metadata": {},
   "outputs": [
    {
     "name": "stdout",
     "output_type": "stream",
     "text": [
      "['Hanindita', 19, 'Surakarta', ['Olahraga', 'Fotografi', 'Game']]\n"
     ]
    }
   ],
   "source": [
    "#SOAL-4\n",
    "#KERJAKAN PUNYA KALIAN DISINI\n",
    "biodata.remove(\"I0321048\")\n",
    "print(biodata)"
   ]
  },
  {
   "cell_type": "markdown",
   "metadata": {},
   "source": [
    "Untuk report final tuliskan kembali kode dengan format output seperti SOAL-2, namun dengan penyesuaian terhadap perubahan yang telah kalian lakukan sebelumnya."
   ]
  },
  {
   "cell_type": "code",
   "execution_count": 38,
   "metadata": {},
   "outputs": [
    {
     "name": "stdout",
     "output_type": "stream",
     "text": [
      "BIODATA\n",
      "____________________\n",
      "Nama\t: Hanindita \n",
      "USIA\t: 19 \n",
      "ASAL\t: Surakarta \n",
      "HOBI\t: ['Olahraga', 'Fotografi', 'Game']\n"
     ]
    }
   ],
   "source": [
    "#SOAL-5\n",
    "#Kerjakan disini\n",
    "print(\"BIODATA\\n____________________\\nNama\\t:\", biodata[0], \"\\nUSIA\\t:\", biodata[1],\n",
    "        \"\\nASAL\\t:\",biodata[2], \"\\nHOBI\\t:\", biodata[3])"
   ]
  },
  {
   "cell_type": "markdown",
   "metadata": {},
   "source": [
    "### DICTIONARY"
   ]
  },
  {
   "cell_type": "markdown",
   "metadata": {},
   "source": [
    "Berikut merupakan latihan mengenai tipe data dictionary.  \n",
    "Selamat berlatih.  \n",
    "Semangat!!!."
   ]
  },
  {
   "cell_type": "code",
   "execution_count": 47,
   "metadata": {},
   "outputs": [
    {
     "name": "stdout",
     "output_type": "stream",
     "text": [
      "Nama Lengkap: Hanindita Jati\n",
      "{'nama_depan': 'Hanindita', 'nama_belakang': 'Jati', 'usia': 19, 'kota_asal': 'Surakarta', 'hobi': 'Olahraga', 'PRODI': 'Teknik Industri'}\n",
      "{'nama_depan': 'Hanindita', 'nama_belakang': 'Jati', 'usia': 19, 'kota_asal': 'Surakarta', 'hobi': 'Olahraga, Game', 'PRODI': 'Teknik Industri'}\n",
      "{'nama_depan': 'Hanindita', 'nama_belakang': 'Jati', 'usia': 19, 'hobi': 'Olahraga, Game', 'PRODI': 'Teknik Industri'}\n"
     ]
    }
   ],
   "source": [
    "#SILAHKAN ISI CODE RUMPANG BERIKUT SESUAI KONDISI KALIAN\n",
    "biodata = {'nama_depan':'Hanindita','nama_belakang':'Jati','usia':19,'kota_asal':'Surakarta','hobi':'Olahraga'}\n",
    "print('Nama Lengkap: ' + biodata['nama_depan'] + ' ' + biodata['nama_belakang'])\n",
    "\n",
    "#MENAMBAHKAN KEY&VALUE \"PRODI\" dan \"HOBI\" MASING-MASING\n",
    "biodata['PRODI'] = 'Teknik Industri'\n",
    "print(biodata)\n",
    "\n",
    "#MENGUBAH VALUE PADA SEBUAH DICTIONARY\n",
    "biodata['hobi'] = 'Olahraga, Game'\n",
    "print(biodata)\n",
    "\n",
    "#MENGHAPUS SALAH SATU KEY-VALUE PAIRS\n",
    "del biodata['kota_asal']\n",
    "print(biodata)\n",
    "\n",
    "\n",
    "\n",
    "\n"
   ]
  },
  {
   "cell_type": "markdown",
   "metadata": {},
   "source": [
    "### Cara Pengumpulan\n",
    "\n",
    "1. Buka *New Terminal*\n",
    "2. Pastikan *path* Terminal adalah folder repositori kalian (NIM-Nama-Prokom).\n",
    "3. Tambahkan file yang akan ditrack dengan `git add <nama file>`. Nama file bisa diubah . (titik)  `git add .`yang artinya semua file dalam folder akan ditrack.\n",
    "4. Lakukan commit perubahan dengan `git commit -m <deskripsi>`.\n",
    "5. Lakukan push dengan `git push -u origin <nama branch>`. Nama branch dapat diketahui dengan `git branch`.\n",
    "6. Pastikan Exercise-02 telah terupload dan dapat diakses di repositori dengan mengaksesnya di browser."
   ]
  }
 ],
 "metadata": {
  "interpreter": {
   "hash": "ac59ebe37160ed0dfa835113d9b8498d9f09ceb179beaac4002f036b9467c963"
  },
  "kernelspec": {
   "display_name": "Python 3.9.8 64-bit",
   "language": "python",
   "name": "python3"
  },
  "language_info": {
   "name": "python",
   "version": "3.10.2"
  },
  "orig_nbformat": 4
 },
 "nbformat": 4,
 "nbformat_minor": 2
}
